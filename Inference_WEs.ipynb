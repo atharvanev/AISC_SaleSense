{
 "cells": [
  {
   "cell_type": "code",
   "execution_count": 23,
   "metadata": {},
   "outputs": [],
   "source": [
    "# import lightgbm\n",
    "# from ollama import chat\n",
    "# from sentence_transformers import SentenceTransformer\n",
    "\n",
    "\n",
    "\n",
    "import lightgbm\n",
    "import streamlit as st\n",
    "#from ollama import chat\n",
    "import google.generativeai as genai\n",
    "from sentence_transformers import SentenceTransformer"
   ]
  },
  {
   "cell_type": "code",
   "execution_count": 24,
   "metadata": {},
   "outputs": [
    {
     "name": "stderr",
     "output_type": "stream",
     "text": [
      "Some weights of the model checkpoint at dunzhang/stella_en_400M_v5 were not used when initializing NewModel: ['new.pooler.dense.bias', 'new.pooler.dense.weight']\n",
      "- This IS expected if you are initializing NewModel from the checkpoint of a model trained on another task or with another architecture (e.g. initializing a BertForSequenceClassification model from a BertForPreTraining model).\n",
      "- This IS NOT expected if you are initializing NewModel from the checkpoint of a model that you expect to be exactly identical (initializing a BertForSequenceClassification model from a BertForSequenceClassification model).\n"
     ]
    }
   ],
   "source": [
    "# Create a SentenceTransformer instance with the stella_en_1.5B_v5 model\n",
    "word_embedding = SentenceTransformer(\"dunzhang/stella_en_400M_v5\", device=\"mps\", config_kwargs={\"use_memory_efficient_attention\": False, \"unpad_inputs\": False}, trust_remote_code=True)\n",
    "\n"
   ]
  },
  {
   "cell_type": "code",
   "execution_count": 25,
   "metadata": {},
   "outputs": [],
   "source": [
    "class Text2Embedding():\n",
    "    def __init__(self, model):\n",
    "        \"\"\"\n",
    "        The constructor takes in a text-embedding model object (e.g., \n",
    "        a SentenceTransformer instance or any other encoding model).\n",
    "        \n",
    "        :param model: A text embedding model with a .encode() method.\n",
    "        \"\"\"\n",
    "        self.model = model\n",
    "\n",
    "    def sentence2vector(self, sentences, name='product_description'):\n",
    "        \"\"\"\n",
    "        Encodes a given text (or list of texts) into an embedding.\n",
    "        \n",
    "        :param sentences: The text input(s) to encode.\n",
    "        :param name: Optional identifier for debugging/logging purposes.\n",
    "        :return: The raw embedding vector (or a list of vectors).\n",
    "        \"\"\"\n",
    "        print(f\"Encoding sentences for feature '{name}'...\")\n",
    "        vector = self.model.encode(sentences)\n",
    "        return vector\n",
    "\n",
    "    def transform(self, input):\n",
    "        \"\"\"\n",
    "        A convenience method that calls sentence2vector() and reshapes \n",
    "        the resulting embedding(s) to a fixed shape of (1, 1024). \n",
    "        This implies the model outputs a 1024-dimensional embedding.\n",
    "        \n",
    "        :param input: The text input to encode.\n",
    "        :return: A (1, 1024) NumPy array representing the single text embedding.\n",
    "        \"\"\"\n",
    "        embedding = self.sentence2vector(input)\n",
    "        return embedding.reshape(1, 1024)\n"
   ]
  },
  {
   "cell_type": "code",
   "execution_count": 26,
   "metadata": {},
   "outputs": [],
   "source": [
    "# Load the model from 'model_gbm.txt' file\n",
    "\n",
    "gbm = lightgbm.Booster(model_file='lightgbm_model_light_we.txt')"
   ]
  },
  {
   "cell_type": "code",
   "execution_count": 46,
   "metadata": {},
   "outputs": [
    {
     "name": "stdout",
     "output_type": "stream",
     "text": [
      "Encoding sentences for feature 'product_description'...\n"
     ]
    },
    {
     "name": "stderr",
     "output_type": "stream",
     "text": [
      "/Users/atharva/anaconda3/envs/SaleSense/lib/python3.10/site-packages/transformers/modeling_utils.py:1141: FutureWarning: The `device` argument is deprecated and will be removed in v5 of Transformers.\n",
      "  warnings.warn(\n"
     ]
    },
    {
     "name": "stdout",
     "output_type": "stream",
     "text": [
      "Indulge in timeless elegance with this authentic vintage Chanel handbag, crafted from supple black lambskin leather. The iconic gold-tone CC turn-lock closure adds a touch of classic sophistication. Perfectly sized at W 25cm x H 17cm x D 2cm, it's ideal for day or evening. The gracefully long 94cm shoulder strap allows for comfortable over-the-shoulder wear. To ensure lasting quality, the interior lining has been expertly replaced. This exquisite piece is presented with a delicate Chanel ribbon.\n",
      "Encoding sentences for feature 'product_description'...\n",
      "Iteration 1: Old Score=0.3502, New Score=0.5059\n",
      "Experience the allure of enduring style with this authentic vintage Chanel handbag, meticulously crafted from luxuriously soft black lambskin leather. A hallmark of Parisian chic, the iconic gold-tone CC turn-lock closure secures your essentials with a satisfying click and adds an unmistakable touch of classic Chanel sophistication. Perfectly proportioned at W 25cm x H 17cm x D 2cm, this coveted accessory effortlessly transitions from day to evening, complementing any ensemble. The gracefully long 94cm shoulder strap allows for comfortable and elegant over-the-shoulder wear. Demonstrating a commitment to preserving its timeless appeal, the interior lining has been expertly replaced, ensuring lasting quality and continued enjoyment. Presented with a delicate Chanel ribbon, this exquisite piece is ready to become a cherished addition to your collection.\n",
      "Encoding sentences for feature 'product_description'...\n",
      "Iteration 2: Old Score=0.5059, New Score=0.4166\n",
      "Indulge in the timeless elegance of this authentic vintage Chanel handbag. Crafted from supple black lambskin leather, this piece exudes Parisian sophistication. The iconic gold-tone CC turn-lock closure not only secures your belongings but also adds a touch of unmistakable Chanel glamour. Perfectly sized at W 25cm x H 17cm x D 2cm, this versatile accessory effortlessly elevates any look, from daytime chic to evening allure. The gracefully long 94cm shoulder strap provides comfortable over-the-shoulder wear. To ensure lasting quality, the interior lining has been expertly replaced. Presented with a delicate Chanel ribbon, this exquisite handbag is ready to become a treasured heirloom.\n",
      "Encoding sentences for feature 'product_description'...\n",
      "Iteration 3: Old Score=0.5059, New Score=0.4399\n",
      "Experience the allure of vintage luxury with this authentic Chanel handbag. Meticulously crafted from exquisitely soft black lambskin leather, this piece embodies timeless Parisian style. The iconic, gleaming gold-tone CC turn-lock closure provides secure elegance, instantly signaling the unmistakable prestige of Chanel. Perfectly sized at W 25cm x H 17cm x D 2cm, this versatile treasure seamlessly transitions from chic daytime companion to captivating evening statement. The gracefully long 94cm shoulder strap ensures comfortable, hands-free elegance. As a testament to its enduring quality, the interior lining has been expertly replaced, ensuring years of continued enjoyment. Presented with a signature Chanel ribbon, this extraordinary handbag is poised to become a cherished heirloom.\n",
      "Encoding sentences for feature 'product_description'...\n",
      "Iteration 4: Old Score=0.5059, New Score=0.3555\n",
      "Unveil timeless Parisian elegance with this authentic Chanel handbag, a captivating embodiment of vintage luxury. Indulge in the exquisitely soft touch of meticulously crafted black lambskin leather, promising a sensory experience with every touch. The iconic, gleaming gold-tone CC turn-lock closure doesn't just secure your essentials; it proclaims the unmistakable prestige and enduring legacy of Chanel. Perfectly proportioned at W 25cm x H 17cm x D 2cm, this versatile treasure effortlessly transitions from a chic daytime companion to a captivating evening statement piece. Experience comfortable, hands-free elegance with the gracefully long 94cm shoulder strap. As a mark of enduring quality, the interior lining has been expertly replaced, ensuring years of continued use and enjoyment. Arriving with a signature Chanel ribbon, this extraordinary handbag is poised to become a cherished heirloom, a testament to your impeccable taste and appreciation for timeless style.\n",
      "Encoding sentences for feature 'product_description'...\n",
      "Iteration 5: Old Score=0.5059, New Score=0.3528\n",
      "Experience the allure of Parisian chic with this authentic Chanel handbag, a true vintage masterpiece. Immerse yourself in the luxurious softness of meticulously crafted black lambskin leather – a tactile delight that elevates every touch. The iconic, radiant gold-tone CC turn-lock closure not only safeguards your valuables but also declares your appreciation for Chanel's enduring prestige and unparalleled heritage. Perfectly sized at W 25cm x H 17cm x D 2cm, this versatile gem seamlessly transitions from a sophisticated daytime accessory to a stunning evening statement. Enjoy hands-free sophistication with the elegantly long 94cm shoulder strap, designed for comfortable wear. Demonstrating enduring quality, the interior lining has been expertly replaced, promising years of continued use and unwavering enjoyment. Presented with a classic Chanel ribbon, this exceptional handbag is destined to become a treasured heirloom, reflecting your discerning taste and love for timeless elegance.\n",
      "Encoding sentences for feature 'product_description'...\n",
      "Iteration 6: Old Score=0.5059, New Score=0.3450\n",
      "\n",
      "Old description: Authentic vintage Chanel made out of luxurious black lambskin. Featuring gold CC closure. Size W: 25cm H: 17cm Size D: 2cm. Shoulder height: 94cm. Inside lining has been fully replaced. Comes with ribbon.\n",
      "\n",
      "Best description: Indulge in timeless elegance with this authentic vintage Chanel handbag, crafted from supple black lambskin leather. The iconic gold-tone CC turn-lock closure adds a touch of classic sophistication. Perfectly sized at W 25cm x H 17cm x D 2cm, it's ideal for day or evening. The gracefully long 94cm shoulder strap allows for comfortable over-the-shoulder wear. To ensure lasting quality, the interior lining has been expertly replaced. This exquisite piece is presented with a delicate Chanel ribbon.\n",
      "\n",
      "Best score: 0.5058591779126403\n",
      "\n",
      "Percent of improvment: 44.463%\n"
     ]
    }
   ],
   "source": [
    "genai.configure(api_key= st.secrets[\"api\"][\"key\"])\n",
    "model = genai.GenerativeModel(\"gemini-2.0-flash\")\n",
    "\n",
    "def call_gemini(messages):\n",
    "    \"\"\"\n",
    "    Calls Gemini 2 Flash API to improve the product description.\n",
    "    \"\"\"\n",
    "    #user_message = messages[-1][\"parts\"]  # Get the last user input\n",
    "\n",
    "    # Get response from Gemini\n",
    "    response = model.generate_content(messages)\n",
    "\n",
    "    # Extract only the improved description from the response\n",
    "    #new_description = response.text.split(':')[-1].strip()\n",
    "\n",
    "    new_description = response.text.strip()  # Directly get the improved text without splitting\n",
    "\n",
    "    return new_description\n",
    "\n",
    "\n",
    "# Define the initial description text\n",
    "example = \"Authentic vintage Chanel made out of luxurious black lambskin. Featuring gold CC closure. Size W: 25cm H: 17cm Size D: 2cm. Shoulder height: 94cm. Inside lining has been fully replaced. Comes with ribbon.\"\n",
    "# example = 'int pedro = 9'\n",
    "# Transform the text into an embedding \n",
    "transform_embedding = Text2Embedding(word_embedding)\n",
    "example_embedding = transform_embedding.transform(example)\n",
    "\n",
    "# Define a threshold for the score and the maximum number of iterations\n",
    "score_threshold = 0.9\n",
    "max_iterations = 6\n",
    "\n",
    "# Use a GBM model to predict the \"score\" for the current description\n",
    "best_score = gbm.predict(example_embedding)\n",
    "best_score = float(best_score[0])\n",
    "\n",
    "# Keep track of the first (original) description and its score\n",
    "first_example = example\n",
    "first_score = best_score\n",
    "best_text = first_example\n",
    "# Start iterating until we meet our threshold or reach the max_iterations\n",
    "i = 1\n",
    "while best_score < score_threshold and i <= max_iterations:\n",
    "    # Prepare the prompt as messages for the chat model\n",
    "    #  - The system message instructs the model to improve the description\n",
    "    #  - The user message includes the current score and the text to improve\n",
    "    messages = (\n",
    "        \"Your task is to improve the given product description while keeping all key details intact. \"\n",
    "         \"You MUST maximize the 'score' by making the description more engaging, informative, and persuasive. \"\n",
    "        \"IMPORTANT: Your response should ONLY contain the improved product description. \"\n",
    "        \"You are NOT allowed to provide any commentary, explanations, or suggestions—just return the improved text. \"\n",
    "        \"The response must not contain any additional information. \"\n",
    "        \"dont hallucinate or make up things only base of known information\"\n",
    "        \"dont add extra features only improve on desciptiveness\"\n",
    "        \"Return ONLY the improved product description and nothing else. Do NOT provide any commentary, context, or services.\"\n",
    "        f\"Score: {best_score:.2f} | Description: {example}\"\n",
    "        #\"reply understood if you understand\"\n",
    "    )\n",
    "        \n",
    "    \n",
    "\n",
    "\n",
    "    # Call the chat model to get a new/improved description\n",
    "        # response = chat(model=\"llama3.2\", messages=messages)\n",
    "    \n",
    "\n",
    "\n",
    "    # Extract the new description from the response\n",
    "    # Assumes the response content is in the format: \"Description: ...\"\n",
    "        #example = response['message']['content'].split(':')[-1]\n",
    "\n",
    "    example = call_gemini(messages)\n",
    "    print(example)\n",
    "    # Make sure the response isn't None before processing\n",
    "    if not example:\n",
    "        print(\"No response from Gemini API.\")\n",
    "        break\n",
    "\n",
    "    #example = response['message']['content'].split(':')[-1]\n",
    "\n",
    "    # Transform the new description to get it\n",
    "    example_embedding = transform_embedding.transform(example)\n",
    "    \n",
    "    # Predict the score of this new description\n",
    "    new_score = gbm.predict(example_embedding)\n",
    "    new_score = float(new_score[0])\n",
    "\n",
    "    # Print debug information: how the score changed from old to new\n",
    "    print(f\"Iteration {i}: Old Score={best_score:.4f}, New Score={new_score:.4f}\")\n",
    "\n",
    "    # If the new score is better, update our best_score and best_text\n",
    "    if new_score > best_score:\n",
    "        best_score = new_score\n",
    "        best_text = example\n",
    "\n",
    "    i += 1  # Move to the next iteration\n",
    "\n",
    "# Once we exit the loop, track the final score\n",
    "last_score = best_score\n",
    "\n",
    "# Calculate the percentage improvement over the first/original score\n",
    "percent_of_change = (((last_score - first_score) / first_score) * 100)\n",
    "\n",
    "# Print out the old and best descriptions with their corresponding scores\n",
    "print(f'\\nOld description: {first_example}')\n",
    "print(f\"\\nBest description: {best_text}\")\n",
    "print(f\"\\nBest score: {best_score}\")\n",
    "print(f\"\\nPercent of improvment: {percent_of_change:.3f}%\")\n"
   ]
  },
  {
   "cell_type": "code",
   "execution_count": 20,
   "metadata": {},
   "outputs": [
    {
     "data": {
      "text/plain": [
       "0.3501659505781453"
      ]
     },
     "execution_count": 20,
     "metadata": {},
     "output_type": "execute_result"
    }
   ],
   "source": [
    "best_score"
   ]
  },
  {
   "cell_type": "code",
   "execution_count": null,
   "metadata": {},
   "outputs": [],
   "source": []
  }
 ],
 "metadata": {
  "kernelspec": {
   "display_name": "SaleSense",
   "language": "python",
   "name": "python3"
  },
  "language_info": {
   "codemirror_mode": {
    "name": "ipython",
    "version": 3
   },
   "file_extension": ".py",
   "mimetype": "text/x-python",
   "name": "python",
   "nbconvert_exporter": "python",
   "pygments_lexer": "ipython3",
   "version": "3.10.16"
  }
 },
 "nbformat": 4,
 "nbformat_minor": 2
}
